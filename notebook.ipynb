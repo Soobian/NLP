{
  "cells": [
    {
      "cell_type": "markdown",
      "source": [
        "**1. Import bibliotek + funkcje pomocnicze**"
      ],
      "metadata": {
        "id": "Cvne0QeMDrAv"
      }
    },
    {
      "cell_type": "code",
      "execution_count": null,
      "metadata": {
        "id": "4cwp3j8k56PD"
      },
      "outputs": [],
      "source": [
        "import matplotlib.pyplot as plt\n",
        "from collections import Counter\n",
        "\n",
        "def analysis(array):\n",
        "    return Counter(array)\n",
        "\n",
        "def filterTheDict(dictObj, callback):\n",
        "  newDict = dict()\n",
        "  for (key, value) in dictObj.items():\n",
        "      if callback((key, value)):\n",
        "          newDict[key] = value\n",
        "  return newDict"
      ]
    },
    {
      "cell_type": "markdown",
      "source": [
        "**2. Import pliku txtfile.txt i zliczanie słów**"
      ],
      "metadata": {
        "id": "dx4zNxNPD5hi"
      }
    },
    {
      "cell_type": "code",
      "execution_count": null,
      "metadata": {
        "id": "vzuX4Ysu56PF"
      },
      "outputs": [],
      "source": [
        "fileContent = []\n",
        "\n",
        "with open('txtfile.txt') as f:\n",
        "    lines = f.readlines()\n",
        "    for line in lines:\n",
        "        if not line.startswith('\\n') and not line.startswith('#'):\n",
        "            fileContent.append(line)\n",
        "        if line == \"# page 119 and 120\":\n",
        "            break"
      ]
    },
    {
      "cell_type": "code",
      "execution_count": null,
      "metadata": {
        "id": "vIPvtnIq56PG"
      },
      "outputs": [],
      "source": [
        "words = []\n",
        "for line in fileContent:\n",
        "    lineWords = line.replace(\"\\n\", \"\").split(',')\n",
        "    for word in lineWords:\n",
        "        words.append(word)"
      ]
    },
    {
      "cell_type": "code",
      "execution_count": null,
      "metadata": {
        "id": "_02REJ0Q56PG"
      },
      "outputs": [],
      "source": [
        "counter = analysis(words)"
      ]
    },
    {
      "cell_type": "markdown",
      "source": [
        "**3. Tworzenie zipf**"
      ],
      "metadata": {
        "id": "aWiYkVBsEGlR"
      }
    },
    {
      "cell_type": "code",
      "execution_count": null,
      "metadata": {
        "id": "FyLke27156PG"
      },
      "outputs": [],
      "source": [
        "mostCommon = counter.most_common()\n",
        "zipf = {}\n",
        "\n",
        "for (k, v) in mostCommon:\n",
        "    if v not in zipf.keys():\n",
        "        zipf[v] = [k]\n",
        "    else:\n",
        "        zipf[v].append(k)\n",
        "\n",
        "result = {}\n",
        "rank = list()\n",
        "r = 1\n",
        "for i, (k, v) in enumerate(zipf.items()):\n",
        "    for word in v:\n",
        "      result[word] = k * (i + 1)\n",
        "      rank.append((word, k, r))\n",
        "      r = r + 1\n",
        "\n",
        "#print(result)\n",
        "#print(zipf)"
      ]
    },
    {
      "cell_type": "markdown",
      "source": [
        "**4. Wykres ilości wystąpień w zależności od miejsca w rankingu**"
      ],
      "metadata": {
        "id": "8rFMECvoIyZf"
      }
    },
    {
      "cell_type": "code",
      "source": [
        "x = list(zip(*rank))[2]\n",
        "y = list(zip(*rank))[1]\n",
        "\n",
        "plt.gcf().set_dpi(100)\n",
        "plt.plot(x, y, 'o', color='black', markersize=1);"
      ],
      "metadata": {
        "id": "dPtskEUKGOK0"
      },
      "execution_count": null,
      "outputs": []
    },
    {
      "cell_type": "markdown",
      "source": [
        "**5. Wyświetlanie wykresu zipf**"
      ],
      "metadata": {
        "id": "7rg9z5ogERd3"
      }
    },
    {
      "cell_type": "code",
      "execution_count": null,
      "metadata": {
        "id": "ZuRuQ2hl56PH"
      },
      "outputs": [],
      "source": [
        "plt.gcf().set_dpi(100)\n",
        "plt.xticks(rotation=90, fontsize=5)\n",
        "plt.tight_layout()\n",
        "plt.bar(result.keys(), result.values())"
      ]
    },
    {
      "cell_type": "markdown",
      "source": [
        "**5.1. Dla wartości > 3500**"
      ],
      "metadata": {
        "id": "MSo98jCFLu7I"
      }
    },
    {
      "cell_type": "code",
      "source": [
        "plt.gcf().set_dpi(100)\n",
        "plt.xticks(rotation=90, fontsize=6)\n",
        "plt.tight_layout()\n",
        "new_result = filterTheDict(result, lambda l: l[1] > 3500)\n",
        "new_result = dict(sorted(new_result.items(), key=lambda item: -item[1]))\n",
        "plt.bar(new_result.keys(), new_result.values())"
      ],
      "metadata": {
        "id": "Z-BHZZvMLxkA"
      },
      "execution_count": null,
      "outputs": []
    },
    {
      "cell_type": "markdown",
      "source": [
        "**6. Powtórzenie algorytmu dla pliku deutsch_wojnicz.txt (Niemiecka wikipedia o manuskrypcie Wojnicza)**"
      ],
      "metadata": {
        "id": "GleOn8LtJQKd"
      }
    },
    {
      "cell_type": "code",
      "source": [
        "w_content = []\n",
        "\n",
        "with open('deutsch_wojnicz.txt') as f:\n",
        "    lines = f.readlines()\n",
        "    for line in lines:\n",
        "        if not line.startswith('\\n') and not line.startswith('#'):\n",
        "            w_content.append(line)\n",
        "\n",
        "w_words = []\n",
        "for line in w_content:\n",
        "    lineWords = line.replace(\"\\n\", \"\").split(' ')\n",
        "    for word in lineWords:\n",
        "        w_words.append(word)\n",
        "\n",
        "w_counter = analysis(w_words)\n",
        "\n",
        "w_mostCommon = w_counter.most_common()\n",
        "w_zipf = {}\n",
        "\n",
        "for (k, v) in w_mostCommon:\n",
        "    if v not in w_zipf.keys():\n",
        "        w_zipf[v] = [k]\n",
        "    else:\n",
        "        w_zipf[v].append(k)\n",
        "\n",
        "w_result = {}\n",
        "w_rank = list()\n",
        "w_r = 1\n",
        "for i, (k, v) in enumerate(w_zipf.items()):\n",
        "    for word in v:\n",
        "      w_result[word] = k * (i + 1)\n",
        "      w_rank.append((word, k, w_r))\n",
        "      w_r = w_r + 1"
      ],
      "metadata": {
        "id": "Euxnu-RxJPXt"
      },
      "execution_count": null,
      "outputs": []
    },
    {
      "cell_type": "code",
      "source": [
        "x = list(zip(*w_rank))[2]\n",
        "y = list(zip(*w_rank))[1]\n",
        "\n",
        "plt.gcf().set_dpi(100)\n",
        "plt.plot(x, y, 'o', color='black', markersize=1);"
      ],
      "metadata": {
        "id": "s_uq-V4MJNw6"
      },
      "execution_count": null,
      "outputs": []
    },
    {
      "cell_type": "code",
      "source": [
        "plt.gcf().set_dpi(100)\n",
        "plt.xticks(rotation=90, fontsize=5)\n",
        "plt.tight_layout()\n",
        "plt.bar(w_result.keys(), w_result.values())"
      ],
      "metadata": {
        "id": "pSnH15rGLVtA"
      },
      "execution_count": null,
      "outputs": []
    },
    {
      "cell_type": "markdown",
      "source": [
        "**6.1. Dla wartości > 200**"
      ],
      "metadata": {
        "id": "CPo6e8xXLn1W"
      }
    },
    {
      "cell_type": "code",
      "source": [
        "plt.gcf().set_dpi(100)\n",
        "plt.xticks(rotation=90, fontsize=10)\n",
        "plt.tight_layout()\n",
        "w_new_result = filterTheDict(w_result, lambda l: l[1] > 600)\n",
        "w_new_result = dict(sorted(w_new_result.items(), key=lambda item: -item[1]))\n",
        "plt.bar(w_new_result.keys(), w_new_result.values())"
      ],
      "metadata": {
        "id": "LHCLNlI-MTsg"
      },
      "execution_count": null,
      "outputs": []
    }
  ],
  "metadata": {
    "kernelspec": {
      "display_name": "Python 3",
      "language": "python",
      "name": "python3"
    },
    "language_info": {
      "codemirror_mode": {
        "name": "ipython",
        "version": 3
      },
      "file_extension": ".py",
      "mimetype": "text/x-python",
      "name": "python",
      "nbconvert_exporter": "python",
      "pygments_lexer": "ipython3",
      "version": "3.10.10 (tags/v3.10.10:aad5f6a, Feb  7 2023, 17:20:36) [MSC v.1929 64 bit (AMD64)]"
    },
    "orig_nbformat": 4,
    "vscode": {
      "interpreter": {
        "hash": "348748404aaf2a91afe8cefe108cdce6fc0b1e12098107132df373c649526b67"
      }
    },
    "colab": {
      "provenance": []
    }
  },
  "nbformat": 4,
  "nbformat_minor": 0
}